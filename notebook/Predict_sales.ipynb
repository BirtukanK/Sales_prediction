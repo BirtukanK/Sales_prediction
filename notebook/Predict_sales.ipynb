{
 "cells": [
  {
   "cell_type": "code",
   "execution_count": 14,
   "id": "7f98cae7",
   "metadata": {},
   "outputs": [
    {
     "name": "stdout",
     "output_type": "stream",
     "text": [
      "The autoreload extension is already loaded. To reload it, use:\n",
      "  %reload_ext autoreload\n"
     ]
    }
   ],
   "source": [
    "%load_ext autoreload\n",
    "%autoreload 2"
   ]
  },
  {
   "cell_type": "code",
   "execution_count": 15,
   "id": "cdc239c0",
   "metadata": {},
   "outputs": [],
   "source": [
    "import os\n",
    "import sys\n",
    "import dvc.api\n",
    "import pandas as pd\n",
    "import matplotlib as plt"
   ]
  },
  {
   "cell_type": "code",
   "execution_count": 3,
   "id": "aa091b5a",
   "metadata": {},
   "outputs": [],
   "source": [
    "sys.path.append('.')\n",
    "sys.path.insert(1, '../script/')\n",
    "import warnings\n",
    "warnings.filterwarnings('ignore')"
   ]
  },
  {
   "cell_type": "code",
   "execution_count": 39,
   "id": "fa3c98d8",
   "metadata": {},
   "outputs": [],
   "source": [
    "sys.path.append(os.path.abspath(os.path.join('../scripts')))\n",
    "from train_classifiers import TrainingClassifier"
   ]
  },
  {
   "cell_type": "code",
   "execution_count": 67,
   "id": "37d65b84",
   "metadata": {},
   "outputs": [],
   "source": [
    "import os\n",
    "import warnings\n",
    "import sys\n",
    "import datetime\n",
    "\n",
    "import mlflow\n",
    "import dvc.api\n",
    "import pandas as pd\n",
    "import numpy as np\n",
    "from sklearn.metrics import mean_squared_error, mean_absolute_error, r2_score\n",
    "from sklearn.model_selection import train_test_split\n",
    "from sklearn.linear_model import ElasticNet, LogisticRegression, LinearRegression\n",
    "from sklearn.preprocessing import LabelEncoder\n",
    "from fast_ml.model_development import train_valid_test_split\n",
    "from sklearn.tree import DecisionTreeClassifier\n",
    "from urllib.parse import urlparse\n",
    "import mlflow\n",
    "import mlflow.sklearn\n",
    "from sklearn.preprocessing import StandardScaler, OrdinalEncoder\n",
    "from sklearn.impute import SimpleImputer\n",
    "from sklearn.compose import ColumnTransformer\n",
    "from sklearn.pipeline import Pipeline\n",
    "from sklearn.ensemble import RandomForestRegressor\n",
    "from sklearn.ensemble import RandomForestClassifier\n",
    "import pickle"
   ]
  },
  {
   "cell_type": "code",
   "execution_count": 5,
   "id": "daa06c7a",
   "metadata": {},
   "outputs": [],
   "source": [
    "data_file = '/train_store_processed.csv'\n",
    "\n",
    "# the local data path\n",
    "local_path = '../data/' + data_file\n",
    "\n",
    "# the path to the data set\n",
    "path = 'data/' + data_file\n",
    "\n",
    "# base repository\n",
    "repo = '../'"
   ]
  },
  {
   "cell_type": "code",
   "execution_count": 6,
   "id": "3b7f3469",
   "metadata": {},
   "outputs": [
    {
     "data": {
      "text/html": [
       "<div>\n",
       "<style scoped>\n",
       "    .dataframe tbody tr th:only-of-type {\n",
       "        vertical-align: middle;\n",
       "    }\n",
       "\n",
       "    .dataframe tbody tr th {\n",
       "        vertical-align: top;\n",
       "    }\n",
       "\n",
       "    .dataframe thead th {\n",
       "        text-align: right;\n",
       "    }\n",
       "</style>\n",
       "<table border=\"1\" class=\"dataframe\">\n",
       "  <thead>\n",
       "    <tr style=\"text-align: right;\">\n",
       "      <th></th>\n",
       "      <th>Unnamed: 0</th>\n",
       "      <th>Date</th>\n",
       "      <th>Store</th>\n",
       "      <th>CompetitionDistance</th>\n",
       "      <th>CompetitionOpenSinceMonth</th>\n",
       "      <th>CompetitionOpenSinceYear</th>\n",
       "      <th>Promo2</th>\n",
       "      <th>Promo2SinceWeek</th>\n",
       "      <th>Promo2SinceYear</th>\n",
       "      <th>DayOfWeek</th>\n",
       "      <th>...</th>\n",
       "      <th>Open</th>\n",
       "      <th>Promo</th>\n",
       "      <th>StateHoliday</th>\n",
       "      <th>SchoolHoliday</th>\n",
       "      <th>year</th>\n",
       "      <th>month</th>\n",
       "      <th>day</th>\n",
       "      <th>PromoInterval</th>\n",
       "      <th>Assortment</th>\n",
       "      <th>StoreType</th>\n",
       "    </tr>\n",
       "  </thead>\n",
       "  <tbody>\n",
       "    <tr>\n",
       "      <th>0</th>\n",
       "      <td>0</td>\n",
       "      <td>2015-07-31</td>\n",
       "      <td>1</td>\n",
       "      <td>20.0</td>\n",
       "      <td>9.0</td>\n",
       "      <td>2008.0</td>\n",
       "      <td>0</td>\n",
       "      <td>13.0</td>\n",
       "      <td>2010.0</td>\n",
       "      <td>5</td>\n",
       "      <td>...</td>\n",
       "      <td>1</td>\n",
       "      <td>1</td>\n",
       "      <td>0</td>\n",
       "      <td>1</td>\n",
       "      <td>2015</td>\n",
       "      <td>7</td>\n",
       "      <td>31</td>\n",
       "      <td>1</td>\n",
       "      <td>0</td>\n",
       "      <td>2</td>\n",
       "    </tr>\n",
       "    <tr>\n",
       "      <th>1</th>\n",
       "      <td>1</td>\n",
       "      <td>2015-07-31</td>\n",
       "      <td>2</td>\n",
       "      <td>20.0</td>\n",
       "      <td>11.0</td>\n",
       "      <td>2007.0</td>\n",
       "      <td>1</td>\n",
       "      <td>13.0</td>\n",
       "      <td>2010.0</td>\n",
       "      <td>5</td>\n",
       "      <td>...</td>\n",
       "      <td>1</td>\n",
       "      <td>1</td>\n",
       "      <td>0</td>\n",
       "      <td>1</td>\n",
       "      <td>2015</td>\n",
       "      <td>7</td>\n",
       "      <td>31</td>\n",
       "      <td>1</td>\n",
       "      <td>0</td>\n",
       "      <td>0</td>\n",
       "    </tr>\n",
       "    <tr>\n",
       "      <th>2</th>\n",
       "      <td>2</td>\n",
       "      <td>2015-07-31</td>\n",
       "      <td>3</td>\n",
       "      <td>20.0</td>\n",
       "      <td>12.0</td>\n",
       "      <td>2006.0</td>\n",
       "      <td>1</td>\n",
       "      <td>14.0</td>\n",
       "      <td>2011.0</td>\n",
       "      <td>5</td>\n",
       "      <td>...</td>\n",
       "      <td>1</td>\n",
       "      <td>1</td>\n",
       "      <td>0</td>\n",
       "      <td>1</td>\n",
       "      <td>2015</td>\n",
       "      <td>7</td>\n",
       "      <td>31</td>\n",
       "      <td>1</td>\n",
       "      <td>0</td>\n",
       "      <td>0</td>\n",
       "    </tr>\n",
       "    <tr>\n",
       "      <th>3</th>\n",
       "      <td>3</td>\n",
       "      <td>2015-07-31</td>\n",
       "      <td>4</td>\n",
       "      <td>20.0</td>\n",
       "      <td>9.0</td>\n",
       "      <td>2009.0</td>\n",
       "      <td>0</td>\n",
       "      <td>1.0</td>\n",
       "      <td>2012.0</td>\n",
       "      <td>5</td>\n",
       "      <td>...</td>\n",
       "      <td>1</td>\n",
       "      <td>1</td>\n",
       "      <td>0</td>\n",
       "      <td>1</td>\n",
       "      <td>2015</td>\n",
       "      <td>7</td>\n",
       "      <td>31</td>\n",
       "      <td>1</td>\n",
       "      <td>2</td>\n",
       "      <td>2</td>\n",
       "    </tr>\n",
       "    <tr>\n",
       "      <th>4</th>\n",
       "      <td>4</td>\n",
       "      <td>2015-07-31</td>\n",
       "      <td>5</td>\n",
       "      <td>20.0</td>\n",
       "      <td>4.0</td>\n",
       "      <td>2015.0</td>\n",
       "      <td>0</td>\n",
       "      <td>1.0</td>\n",
       "      <td>2012.0</td>\n",
       "      <td>5</td>\n",
       "      <td>...</td>\n",
       "      <td>1</td>\n",
       "      <td>1</td>\n",
       "      <td>0</td>\n",
       "      <td>1</td>\n",
       "      <td>2015</td>\n",
       "      <td>7</td>\n",
       "      <td>31</td>\n",
       "      <td>1</td>\n",
       "      <td>0</td>\n",
       "      <td>0</td>\n",
       "    </tr>\n",
       "  </tbody>\n",
       "</table>\n",
       "<p>5 rows × 21 columns</p>\n",
       "</div>"
      ],
      "text/plain": [
       "   Unnamed: 0        Date  Store  CompetitionDistance  \\\n",
       "0           0  2015-07-31      1                 20.0   \n",
       "1           1  2015-07-31      2                 20.0   \n",
       "2           2  2015-07-31      3                 20.0   \n",
       "3           3  2015-07-31      4                 20.0   \n",
       "4           4  2015-07-31      5                 20.0   \n",
       "\n",
       "   CompetitionOpenSinceMonth  CompetitionOpenSinceYear  Promo2  \\\n",
       "0                        9.0                    2008.0       0   \n",
       "1                       11.0                    2007.0       1   \n",
       "2                       12.0                    2006.0       1   \n",
       "3                        9.0                    2009.0       0   \n",
       "4                        4.0                    2015.0       0   \n",
       "\n",
       "   Promo2SinceWeek  Promo2SinceYear  DayOfWeek  ...  Open  Promo  \\\n",
       "0             13.0           2010.0          5  ...     1      1   \n",
       "1             13.0           2010.0          5  ...     1      1   \n",
       "2             14.0           2011.0          5  ...     1      1   \n",
       "3              1.0           2012.0          5  ...     1      1   \n",
       "4              1.0           2012.0          5  ...     1      1   \n",
       "\n",
       "   StateHoliday SchoolHoliday  year  month  day  PromoInterval  Assortment  \\\n",
       "0             0             1  2015      7   31              1           0   \n",
       "1             0             1  2015      7   31              1           0   \n",
       "2             0             1  2015      7   31              1           0   \n",
       "3             0             1  2015      7   31              1           2   \n",
       "4             0             1  2015      7   31              1           0   \n",
       "\n",
       "   StoreType  \n",
       "0          2  \n",
       "1          0  \n",
       "2          0  \n",
       "3          2  \n",
       "4          0  \n",
       "\n",
       "[5 rows x 21 columns]"
      ]
     },
     "execution_count": 6,
     "metadata": {},
     "output_type": "execute_result"
    }
   ],
   "source": [
    "version = 'v7'\n",
    "\n",
    "# data path using dvc api\n",
    "data_url = dvc.api.get_url(path = path, repo = repo, rev = version)\n",
    "\n",
    "# reading the csv file\n",
    "missing_values = [\"n/a\", \"na\", \"undefined\", '?', 'NA', 'undefined']\n",
    "train_data = pd.read_csv(data_url, na_values=missing_values)\n",
    "train_data.head()"
   ]
  },
  {
   "cell_type": "code",
   "execution_count": 70,
   "id": "7a2358b9",
   "metadata": {},
   "outputs": [],
   "source": [
    "mlflow.set_experiment('Sales prediction mlflow')\n",
    "\n",
    "mlflow.log_param('path', 'path')\n",
    "mlflow.log_param('version', 'version')\n",
    "mlflow.log_param('input_rows', train_data.shape[0])\n",
    "mlflow.log_param('input_cols', train_data.shape[1])"
   ]
  },
  {
   "cell_type": "code",
   "execution_count": 7,
   "id": "d9202210",
   "metadata": {},
   "outputs": [
    {
     "name": "stdout",
     "output_type": "stream",
     "text": [
      "<class 'pandas.core.frame.DataFrame'>\n",
      "RangeIndex: 1017209 entries, 0 to 1017208\n",
      "Data columns (total 21 columns):\n",
      " #   Column                     Non-Null Count    Dtype  \n",
      "---  ------                     --------------    -----  \n",
      " 0   Unnamed: 0                 1017209 non-null  int64  \n",
      " 1   Date                       1017209 non-null  object \n",
      " 2   Store                      1017209 non-null  int64  \n",
      " 3   CompetitionDistance        1017209 non-null  float64\n",
      " 4   CompetitionOpenSinceMonth  1017209 non-null  float64\n",
      " 5   CompetitionOpenSinceYear   1017209 non-null  float64\n",
      " 6   Promo2                     1017209 non-null  int64  \n",
      " 7   Promo2SinceWeek            1017209 non-null  float64\n",
      " 8   Promo2SinceYear            1017209 non-null  float64\n",
      " 9   DayOfWeek                  1017209 non-null  int64  \n",
      " 10  Sales                      1017209 non-null  float64\n",
      " 11  Open                       1017209 non-null  int64  \n",
      " 12  Promo                      1017209 non-null  int64  \n",
      " 13  StateHoliday               1017209 non-null  object \n",
      " 14  SchoolHoliday              1017209 non-null  int64  \n",
      " 15  year                       1017209 non-null  int64  \n",
      " 16  month                      1017209 non-null  int64  \n",
      " 17  day                        1017209 non-null  int64  \n",
      " 18  PromoInterval              1017209 non-null  int64  \n",
      " 19  Assortment                 1017209 non-null  int64  \n",
      " 20  StoreType                  1017209 non-null  int64  \n",
      "dtypes: float64(6), int64(13), object(2)\n",
      "memory usage: 163.0+ MB\n"
     ]
    }
   ],
   "source": [
    "train_data.info()"
   ]
  },
  {
   "cell_type": "code",
   "execution_count": 30,
   "id": "f0456f00",
   "metadata": {},
   "outputs": [
    {
     "data": {
      "text/plain": [
       "(844338, 20)"
      ]
     },
     "execution_count": 30,
     "metadata": {},
     "output_type": "execute_result"
    }
   ],
   "source": [
    "train_data.shape"
   ]
  },
  {
   "cell_type": "code",
   "execution_count": 8,
   "id": "bc84a850",
   "metadata": {},
   "outputs": [],
   "source": [
    "train_data.drop(['StateHoliday'], axis=1, inplace=True)"
   ]
  },
  {
   "cell_type": "markdown",
   "id": "a9838f39",
   "metadata": {},
   "source": [
    "we have to remove the column where the store is not open and the sales value is 0, since it has no effect."
   ]
  },
  {
   "cell_type": "code",
   "execution_count": 9,
   "id": "a6d70234",
   "metadata": {},
   "outputs": [],
   "source": [
    "train_data = train_data[train_data['Open'] == 1]\n",
    "train_data = train_data[train_data['Sales'] > 0.0]"
   ]
  },
  {
   "cell_type": "code",
   "execution_count": 10,
   "id": "6f061caf",
   "metadata": {},
   "outputs": [],
   "source": [
    "train_data['Date'] = pd.to_numeric(pd.to_datetime(train_data['Date']))"
   ]
  },
  {
   "cell_type": "markdown",
   "id": "9fa5c4c0",
   "metadata": {},
   "source": [
    "Then we select the prediction variable and the targe variable as y and x respectively."
   ]
  },
  {
   "cell_type": "code",
   "execution_count": 47,
   "id": "2e2d9e26",
   "metadata": {},
   "outputs": [],
   "source": [
    "# predicted value\n",
    "y = train_data['Sales']\n",
    "to_predict = y.head(50000)\n",
    "X = train_data.drop('Sales',axis=1)\n",
    "to_train = X.head(50000)\n",
    "X_train, X_test, y_train, y_test = train_test_split(to_train, to_predict, test_size=0.2, random_state=123)"
   ]
  },
  {
   "cell_type": "markdown",
   "id": "243b399c",
   "metadata": {},
   "source": [
    "Here we use sklearn pipeline"
   ]
  },
  {
   "cell_type": "code",
   "execution_count": 48,
   "id": "3b0ee0cb",
   "metadata": {},
   "outputs": [],
   "source": [
    "data_transformer = Pipeline(steps=[\n",
    "       ('imputer', SimpleImputer(strategy='mean'))\n",
    "      ,('scaler', StandardScaler())\n",
    "])\n",
    "\n",
    "pipeline = Pipeline(steps = [\n",
    "               ('preprocessor', data_transformer)\n",
    "              ,('regressor',RandomForestRegressor(max_depth=64, random_state=0))\n",
    "           ])"
   ]
  },
  {
   "cell_type": "code",
   "execution_count": 49,
   "id": "9dfd3e07",
   "metadata": {},
   "outputs": [
    {
     "name": "stdout",
     "output_type": "stream",
     "text": [
      "Pipeline(steps=[('preprocessor',\n",
      "                 Pipeline(steps=[('imputer', SimpleImputer()),\n",
      "                                 ('scaler', StandardScaler())])),\n",
      "                ('regressor',\n",
      "                 RandomForestRegressor(max_depth=64, random_state=0))])\n"
     ]
    }
   ],
   "source": [
    "rf_model = pipeline.fit(X_train, y_train)\n",
    "print(rf_model)"
   ]
  },
  {
   "cell_type": "markdown",
   "id": "a041fc5d",
   "metadata": {},
   "source": [
    "This random forest regressor algorithm is applied on only the first 50,000 rows of the data set.\n",
    "As the number of data we feed increases the score we get also increases."
   ]
  },
  {
   "cell_type": "code",
   "execution_count": 50,
   "id": "aa5d26af",
   "metadata": {},
   "outputs": [
    {
     "data": {
      "text/plain": [
       "0.8483890556015834"
      ]
     },
     "execution_count": 50,
     "metadata": {},
     "output_type": "execute_result"
    }
   ],
   "source": [
    "rf_model.score(X_test, y_test)"
   ]
  },
  {
   "cell_type": "markdown",
   "id": "780fcaaa",
   "metadata": {},
   "source": [
    "Saving model using time stamp."
   ]
  },
  {
   "cell_type": "code",
   "execution_count": 33,
   "id": "bc4e4a11",
   "metadata": {},
   "outputs": [],
   "source": [
    "path_for_model =  '../models/' + datetime.datetime.now().strftime(\"%Y-%m-%d-%H-%M-%S\") + '.pkl'\n",
    "pickle.dump(rf_model, open(path_for_model, 'wb'))"
   ]
  },
  {
   "cell_type": "markdown",
   "id": "20e909a7",
   "metadata": {},
   "source": [
    "Feature importance for random forest regression model"
   ]
  },
  {
   "cell_type": "code",
   "execution_count": 60,
   "id": "d6c9f3cb",
   "metadata": {},
   "outputs": [
    {
     "data": {
      "text/plain": [
       "array([0.04492418, 0.00688575, 0.17575923, 0.        , 0.09897294,\n",
       "       0.10403739, 0.02044267, 0.08433761, 0.05796963, 0.06825164,\n",
       "       0.        , 0.1954586 , 0.00583578, 0.        , 0.00102555,\n",
       "       0.02123492, 0.03391465, 0.0388847 , 0.04206476])"
      ]
     },
     "execution_count": 60,
     "metadata": {},
     "output_type": "execute_result"
    }
   ],
   "source": [
    "importances = pipeline.named_steps['regressor'].feature_importances_ \n",
    "importances"
   ]
  },
  {
   "cell_type": "code",
   "execution_count": null,
   "id": "182b6c12",
   "metadata": {},
   "outputs": [],
   "source": []
  }
 ],
 "metadata": {
  "kernelspec": {
   "display_name": "Python 3 (ipykernel)",
   "language": "python",
   "name": "python3"
  },
  "language_info": {
   "codemirror_mode": {
    "name": "ipython",
    "version": 3
   },
   "file_extension": ".py",
   "mimetype": "text/x-python",
   "name": "python",
   "nbconvert_exporter": "python",
   "pygments_lexer": "ipython3",
   "version": "3.10.4"
  }
 },
 "nbformat": 4,
 "nbformat_minor": 5
}
